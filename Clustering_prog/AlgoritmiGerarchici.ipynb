{
 "cells": [
  {
   "cell_type": "code",
   "execution_count": 1,
   "id": "6115c361-988b-4c88-a172-46c2ac210dfc",
   "metadata": {},
   "outputs": [],
   "source": [
    "import time\n",
    "import warnings\n",
    "from itertools import cycle, islice\n",
    "\n",
    "import matplotlib.pyplot as plt\n",
    "import numpy as np\n",
    "\n",
    "from sklearn import cluster, datasets\n",
    "from sklearn.preprocessing import StandardScaler\n",
    "import "
   ]
  },
  {
   "cell_type": "markdown",
   "id": "e7341ce0-89ca-491b-8390-56cb921c4e05",
   "metadata": {},
   "source": [
    "## Generazione dei datasets"
   ]
  },
  {
   "cell_type": "code",
   "execution_count": 3,
   "id": "bbb8d670-12b2-4657-9789-9bd080a34db3",
   "metadata": {},
   "outputs": [],
   "source": [
    "n_samples = 1500\n",
    "noisy_circles = datasets.make_circles(\n",
    "    n_samples=n_samples, factor=0.5, noise=0.05, random_state=170\n",
    ")\n",
    "noisy_moons = datasets.make_moons(n_samples=n_samples, noise=0.05, random_state=170)\n",
    "blobs = datasets.make_blobs(n_samples=n_samples, random_state=170)\n",
    "rng = np.random.RandomState(170)\n",
    "no_structure = rng.rand(n_samples, 2), None\n",
    "\n",
    "# Anisotropicly distributed data\n",
    "X, y = datasets.make_blobs(n_samples=n_samples, random_state=170)\n",
    "transformation = [[0.6, -0.6], [-0.4, 0.8]]\n",
    "X_aniso = np.dot(X, transformation)\n",
    "aniso = (X_aniso, y)\n",
    "\n",
    "# blobs with varied variances\n",
    "varied = datasets.make_blobs(\n",
    "    n_samples=n_samples, cluster_std=[1.0, 2.5, 0.5], random_state=170\n",
    ")"
   ]
  },
  {
   "cell_type": "markdown",
   "id": "d373c5fd-c3a7-4f12-9375-fbd5f1c8c94b",
   "metadata": {},
   "source": [
    "## Testing degli algoritmi"
   ]
  },
  {
   "cell_type": "code",
   "execution_count": 5,
   "id": "a4350a0f-5297-4c00-9a8d-2f6028be75bc",
   "metadata": {},
   "outputs": [
    {
     "data": {
      "text/plain": [
       "(array([[ 0.43859488,  0.21531641],\n",
       "        [-0.42245291, -0.30543974],\n",
       "        [-1.01248118,  0.0475593 ],\n",
       "        ...,\n",
       "        [ 0.02821554, -0.55498475],\n",
       "        [ 0.94723713,  0.26827243],\n",
       "        [ 0.0656399 ,  0.55372489]]),\n",
       " array([1, 1, 0, ..., 1, 0, 1], dtype=int64))"
      ]
     },
     "execution_count": 5,
     "metadata": {},
     "output_type": "execute_result"
    }
   ],
   "source": []
  },
  {
   "cell_type": "code",
   "execution_count": null,
   "id": "720c2003-9ad4-4dc9-8e13-b961d76c834e",
   "metadata": {},
   "outputs": [],
   "source": []
  }
 ],
 "metadata": {
  "kernelspec": {
   "display_name": "Python 3 (ipykernel)",
   "language": "python",
   "name": "python3"
  },
  "language_info": {
   "codemirror_mode": {
    "name": "ipython",
    "version": 3
   },
   "file_extension": ".py",
   "mimetype": "text/x-python",
   "name": "python",
   "nbconvert_exporter": "python",
   "pygments_lexer": "ipython3",
   "version": "3.11.7"
  }
 },
 "nbformat": 4,
 "nbformat_minor": 5
}
