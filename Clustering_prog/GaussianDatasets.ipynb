{
 "cells": [
  {
   "cell_type": "markdown",
   "id": "f4ccb47f-ff10-42c1-bc4f-3b304215e713",
   "metadata": {},
   "source": [
    "# Clustering a più dimensioni su dati generati utilizzando un algoritmo Gaussian Mixture "
   ]
  },
  {
   "cell_type": "code",
   "execution_count": 16,
   "id": "f249f16c-4483-4553-9e2b-3a533f11f75f",
   "metadata": {},
   "outputs": [
    {
     "data": {
      "text/plain": [
       "array([[0.00000e+00, 4.00871e+05],\n",
       "       [1.25000e+02, 3.98530e+05],\n",
       "       [4.91600e+03, 4.19677e+05],\n",
       "       ...,\n",
       "       [9.72578e+05, 8.62426e+05],\n",
       "       [9.74573e+05, 8.51625e+05],\n",
       "       [9.78207e+05, 8.56212e+05]])"
      ]
     },
     "execution_count": 16,
     "metadata": {},
     "output_type": "execute_result"
    }
   ],
   "source": [
    "import numpy as np\n",
    "from sklearn.cluster import KMeans\n",
    "from sklearn.datasets import make_blobs\n",
    "import matplotlib.pyplot as plt\n",
    "import os\n",
    "                                            \n",
    "file = open(\"dim2.txt\")\n",
    "line = file.readlines()\n",
    "n_samples = len(line)\n",
    "n_features = len(line[0].split())\n",
    "X= np.zeros((n_samples,n_features))\n",
    "\n",
    "for i in range(n_samples):\n",
    "    row = line[i].split()\n",
    "    for j in range(n_features):\n",
    "        X[i][j]= int(row[j]) \n",
    "\n",
    "X\n",
    "\n"
   ]
  },
  {
   "cell_type": "code",
   "execution_count": 17,
   "id": "5864de52-f311-4106-8021-31680f92d74f",
   "metadata": {},
   "outputs": [
    {
     "data": {
      "text/plain": [
       "<matplotlib.collections.PathCollection at 0x27415b78350>"
      ]
     },
     "execution_count": 17,
     "metadata": {},
     "output_type": "execute_result"
    },
    {
     "data": {
      "image/png": "[encoded data removed]",
      "text/plain": [
       "<Figure size 640x480 with 1 Axes>"
      ]
     },
     "metadata": {},
     "output_type": "display_data"
    }
   ],
   "source": [
    "plt.scatter(X[:, 0], X[:, 1], c= \"blue\" )"
   ]
  },
  {
   "cell_type": "code",
   "execution_count": 59,
   "id": "33c5c3b7-f3db-43b8-a877-ed1ef1f14778",
   "metadata": {},
   "outputs": [
    {
     "data": {
      "text/html": [
       "<style>#sk-container-id-11 {color: black;background-color: white;}#sk-container-id-11 pre{padding: 0;}#sk-container-id-11 div.sk-toggleable {background-color: white;}#sk-container-id-11 label.sk-toggleable__label {cursor: pointer;display: block;width: 100%;margin-bottom: 0;padding: 0.3em;box-sizing: border-box;text-align: center;}#sk-container-id-11 label.sk-toggleable__label-arrow:before {content: \"▸\";float: left;margin-right: 0.25em;color: #696969;}#sk-container-id-11 label.sk-toggleable__label-arrow:hover:before {color: black;}#sk-container-id-11 div.sk-estimator:hover label.sk-toggleable__label-arrow:before {color: black;}#sk-container-id-11 div.sk-toggleable__content {max-height: 0;max-width: 0;overflow: hidden;text-align: left;background-color: #f0f8ff;}#sk-container-id-11 div.sk-toggleable__content pre {margin: 0.2em;color: black;border-radius: 0.25em;background-color: #f0f8ff;}#sk-container-id-11 input.sk-toggleable__control:checked~div.sk-toggleable__content {max-height: 200px;max-width: 100%;overflow: auto;}#sk-container-id-11 input.sk-toggleable__control:checked~label.sk-toggleable__label-arrow:before {content: \"▾\";}#sk-container-id-11 div.sk-estimator input.sk-toggleable__control:checked~label.sk-toggleable__label {background-color: #d4ebff;}#sk-container-id-11 div.sk-label input.sk-toggleable__control:checked~label.sk-toggleable__label {background-color: #d4ebff;}#sk-container-id-11 input.sk-hidden--visually {border: 0;clip: rect(1px 1px 1px 1px);clip: rect(1px, 1px, 1px, 1px);height: 1px;margin: -1px;overflow: hidden;padding: 0;position: absolute;width: 1px;}#sk-container-id-11 div.sk-estimator {font-family: monospace;background-color: #f0f8ff;border: 1px dotted black;border-radius: 0.25em;box-sizing: border-box;margin-bottom: 0.5em;}#sk-container-id-11 div.sk-estimator:hover {background-color: #d4ebff;}#sk-container-id-11 div.sk-parallel-item::after {content: \"\";width: 100%;border-bottom: 1px solid gray;flex-grow: 1;}#sk-container-id-11 div.sk-label:hover label.sk-toggleable__label {background-color: #d4ebff;}#sk-container-id-11 div.sk-serial::before {content: \"\";position: absolute;border-left: 1px solid gray;box-sizing: border-box;top: 0;bottom: 0;left: 50%;z-index: 0;}#sk-container-id-11 div.sk-serial {display: flex;flex-direction: column;align-items: center;background-color: white;padding-right: 0.2em;padding-left: 0.2em;position: relative;}#sk-container-id-11 div.sk-item {position: relative;z-index: 1;}#sk-container-id-11 div.sk-parallel {display: flex;align-items: stretch;justify-content: center;background-color: white;position: relative;}#sk-container-id-11 div.sk-item::before, #sk-container-id-11 div.sk-parallel-item::before {content: \"\";position: absolute;border-left: 1px solid gray;box-sizing: border-box;top: 0;bottom: 0;left: 50%;z-index: -1;}#sk-container-id-11 div.sk-parallel-item {display: flex;flex-direction: column;z-index: 1;position: relative;background-color: white;}#sk-container-id-11 div.sk-parallel-item:first-child::after {align-self: flex-end;width: 50%;}#sk-container-id-11 div.sk-parallel-item:last-child::after {align-self: flex-start;width: 50%;}#sk-container-id-11 div.sk-parallel-item:only-child::after {width: 0;}#sk-container-id-11 div.sk-dashed-wrapped {border: 1px dashed gray;margin: 0 0.4em 0.5em 0.4em;box-sizing: border-box;padding-bottom: 0.4em;background-color: white;}#sk-container-id-11 div.sk-label label {font-family: monospace;font-weight: bold;display: inline-block;line-height: 1.2em;}#sk-container-id-11 div.sk-label-container {text-align: center;}#sk-container-id-11 div.sk-container {/* jupyter's `normalize.less` sets `[hidden] { display: none; }` but bootstrap.min.css set `[hidden] { display: none !important; }` so we also need the `!important` here to be able to override the default hidden behavior on the sphinx rendered scikit-learn.org. See: https://github.com/scikit-learn/scikit-learn/issues/21755 */display: inline-block !important;position: relative;}#sk-container-id-11 div.sk-text-repr-fallback {display: none;}</style><div id=\"sk-container-id-11\" class=\"sk-top-container\"><div class=\"sk-text-repr-fallback\"><pre>KMeans(init=&#x27;random&#x27;, n_clusters=9, n_init=1, random_state=1)</pre><b>In a Jupyter environment, please rerun this cell to show the HTML representation or trust the notebook. <br />On GitHub, the HTML representation is unable to render, please try loading this page with nbviewer.org.</b></div><div class=\"sk-container\" hidden><div class=\"sk-item\"><div class=\"sk-estimator sk-toggleable\"><input class=\"sk-toggleable__control sk-hidden--visually\" id=\"sk-estimator-id-11\" type=\"checkbox\" checked><label for=\"sk-estimator-id-11\" class=\"sk-toggleable__label sk-toggleable__label-arrow\">KMeans</label><div class=\"sk-toggleable__content\"><pre>KMeans(init=&#x27;random&#x27;, n_clusters=9, n_init=1, random_state=1)</pre></div></div></div></div></div>"
      ],
      "text/plain": [
       "KMeans(init='random', n_clusters=9, n_init=1, random_state=1)"
      ]
     },
     "execution_count": 59,
     "metadata": {},
     "output_type": "execute_result"
    }
   ],
   "source": [
    "n_clusters = 9\n",
    "kmeans = KMeans(n_clusters=n_clusters,init = \"random\",random_state= 1, n_init=1)\n",
    "kmeans"
   ]
  },
  {
   "cell_type": "code",
   "execution_count": 60,
   "id": "a5063b1b-6282-4f47-bc46-8452a1ab8758",
   "metadata": {},
   "outputs": [
    {
     "name": "stdout",
     "output_type": "stream",
     "text": [
      "[7 7 7 ... 6 6 6]\n"
     ]
    },
    {
     "name": "stderr",
     "output_type": "stream",
     "text": [
      "C:\\Users\\alega\\anaconda3\\Lib\\site-packages\\sklearn\\cluster\\_kmeans.py:1382: UserWarning: KMeans is known to have a memory leak on Windows with MKL, when there are less chunks than available threads. You can avoid it by setting the environment variable OMP_NUM_THREADS=6.\n",
      "  warnings.warn(\n"
     ]
    }
   ],
   "source": [
    "kmeans.fit(X)\n",
    "y_pred= kmeans.predict(X)\n",
    "\n",
    "print(y_pred)\n"
   ]
  },
  {
   "cell_type": "code",
   "execution_count": 61,
   "id": "5c10577c-a570-4744-8e41-f5c4a553f833",
   "metadata": {},
   "outputs": [
    {
     "data": {
      "text/plain": [
       "<matplotlib.collections.PathCollection at 0x27418bd9c10>"
      ]
     },
     "execution_count": 61,
     "metadata": {},
     "output_type": "execute_result"
    },
    {
     "data": {
      "image/png": "[encoded data removed]",
      "text/plain": [
       "<Figure size 640x480 with 1 Axes>"
      ]
     },
     "metadata": {},
     "output_type": "display_data"
    }
   ],
   "source": [
    "plt.scatter(X[:, 0], X[:, 1], c= y_pred )\n",
    "plt.scatter(kmeans.cluster_centers_[:, 0], kmeans.cluster_centers_[:, 1], s=10, c='red', marker='X' )"
   ]
  },
  {
   "cell_type": "code",
   "execution_count": 53,
   "id": "7532abd8-0e32-43fa-96db-a2556aa32a88",
   "metadata": {},
   "outputs": [
    {
     "name": "stdout",
     "output_type": "stream",
     "text": [
      "valore ottimo =  13748279383.426414\n"
     ]
    }
   ],
   "source": [
    "opt = 0\n",
    "for k in range(n_samples):\n",
    "    for h in range(k, n_samples):      #k lo metto per nn far contare due volte la stessa distanza \n",
    "        if y_pred[k] == y_pred[h]:   \n",
    "            #prift(\"ok\")\n",
    "            sum = 0\n",
    "            for f in range(n_features):\n",
    "                \n",
    "                sum = sum +(X[h,f]-X[k,f])**2\n",
    "                \n",
    "            dist = np.sqrt(sum)    \n",
    "            #print(\"distanza corrente = \", dist)\n",
    "            opt = opt + dist\n",
    "\n",
    "print(\"valore ottimo = \",opt)"
   ]
  },
  {
   "cell_type": "raw",
   "id": "4c9a75a6-3dd0-4f77-aeb3-1c98b7d90505",
   "metadata": {},
   "source": [
    "#5 cluster\n",
    "\n",
    "#istanza random gen 2 = 180763703481.9662\n",
    "\n",
    "13748279383.426414\n",
    "6970414554.067757     \n",
    "1340109284.6903393"
   ]
  },
  {
   "cell_type": "markdown",
   "id": "4cc284e9-9a49-4790-b53a-244e045ca2c0",
   "metadata": {},
   "source": [
    "## Algoritmo di euristica migliorativa locale "
   ]
  },
  {
   "cell_type": "markdown",
   "id": "f6326885-e3c8-4faa-a3d1-adec4e40bbbf",
   "metadata": {},
   "source": [
    "### Metto a confronto la distanza del centroide di un cluster con tutti gli altri centroidi e vedo qual'è il cluster più vicino, faccio questo per ogni cluster "
   ]
  },
  {
   "cell_type": "code",
   "execution_count": 22,
   "id": "e10ea9ce-8b27-46c6-9ea8-dc4a0b6939e0",
   "metadata": {},
   "outputs": [
    {
     "name": "stdout",
     "output_type": "stream",
     "text": [
      "{1: 245841.5935831904, 2: 234829.06434560535, 3: 357298.6635365294, 4: 669679.8491437124, 5: 887911.1916957616, 6: 662006.4149696983, 7: 438929.66535117, 8: 741688.3433648173}\n",
      "234829.06434560535\n",
      "{0: 245841.5935831904, 2: 11020.482434468388, 3: 597365.6299052065, 4: 569628.8289668194, 5: 1045312.4741967254, 6: 696451.0274190765, 7: 412807.3147984277, 8: 949000.1370229948}\n",
      "11020.482434468388\n",
      "{0: 234829.06434560535, 1: 11020.482434468388, 3: 586578.5437698825, 4: 572625.0875827045, 5: 1037816.727690701, 6: 693471.819338429, 7: 411281.3508721232, 8: 939511.5191451003}\n",
      "11020.482434468388\n",
      "{0: 357298.6635365294, 1: 597365.6299052065, 2: 586578.5437698825, 4: 850492.0338033185, 5: 655162.837139184, 6: 673423.4736431043, 7: 595960.9347262894, 8: 428349.26105474815}\n",
      "357298.6635365294\n",
      "{0: 669679.8491437124, 1: 569628.8289668194, 2: 572625.0875827045, 3: 850492.0338033185, 5: 889813.7400589936, 6: 363354.8113178218, 7: 255188.66966285824, 8: 970760.8691624682}\n",
      "255188.66966285824\n",
      "{0: 887911.1916957616, 1: 1045312.4741967254, 2: 1037816.727690701, 3: 655162.837139184, 4: 889813.7400589936, 6: 529063.8344799784, 7: 742066.9028114084, 8: 301953.98595871386}\n",
      "301953.98595871386\n",
      "{0: 662006.4149696983, 1: 696451.0274190765, 2: 693471.819338429, 3: 673423.4736431043, 4: 363354.8113178218, 5: 529063.8344799784, 7: 291972.1437533624, 8: 653024.495975794}\n",
      "291972.1437533624\n",
      "{0: 438929.66535117, 1: 412807.3147984277, 2: 411281.3508721232, 3: 595960.9347262894, 4: 255188.66966285824, 5: 742066.9028114084, 6: 291972.1437533624, 8: 759389.4664829512}\n",
      "255188.66966285824\n",
      "{0: 741688.3433648173, 1: 949000.1370229948, 2: 939511.5191451003, 3: 428349.26105474815, 4: 970760.8691624682, 5: 301953.98595871386, 6: 653024.495975794, 7: 759389.4664829512}\n",
      "301953.98595871386\n",
      "[[0. 2.]\n",
      " [1. 2.]\n",
      " [2. 1.]\n",
      " [3. 0.]\n",
      " [4. 7.]\n",
      " [5. 8.]\n",
      " [6. 7.]\n",
      " [7. 4.]\n",
      " [8. 5.]]\n"
     ]
    }
   ],
   "source": [
    "coppie = np.zeros((n_clusters,2))\n",
    "\n",
    "for i in range(n_clusters):\n",
    "    dist= {}\n",
    "    for j in range(n_clusters):\n",
    "        sum = 0\n",
    "        if i != j:\n",
    "            for k in range(n_features):\n",
    "                sum = sum + (kmeans.cluster_centers_[i,k]-kmeans.cluster_centers_[j,k])**2\n",
    "               \n",
    "            dist[j] = np.sqrt(sum)\n",
    "    print(dist)\n",
    "    \n",
    "    coppie[i,0] = i \n",
    "    min_chiave = min(dist, key=dist.get)\n",
    "    min_valore = dist[min_chiave]\n",
    "    coppie[i,1] = min_chiave\n",
    "    \n",
    "    print(min_valore)\n",
    "print(coppie)"
   ]
  },
  {
   "cell_type": "markdown",
   "id": "59acccf4-00ef-4481-a887-8aaf92dc9ff2",
   "metadata": {},
   "source": [
    "### cerco di migliorare la funzione obbiettivo delle singole coppie di cluster "
   ]
  },
  {
   "cell_type": "code",
   "execution_count": 23,
   "id": "c3af2f3b-9d99-4bac-a715-2407559140c2",
   "metadata": {},
   "outputs": [
    {
     "name": "stdout",
     "output_type": "stream",
     "text": [
      "167679666.64678654\n"
     ]
    }
   ],
   "source": [
    "def Calcolo_fobj(n_samples,n_features,X,y_pred):\n",
    "    att1 = 0\n",
    "    att2 = 0\n",
    "    for k in range(n_samples):\n",
    "        for h in range(k,n_samples):\n",
    "            if y_pred[k] == 0 and y_pred[h] == 0:\n",
    "                #prift(\"ok\")\n",
    "                sum = 0\n",
    "                for f in range(n_features):\n",
    "                    sum = sum +(X[h,f]-X[k,f])**2\n",
    "                \n",
    "                dist1 = np.sqrt(sum)    \n",
    "            \n",
    "                att1 = att1 + dist1 \n",
    "\n",
    "             \n",
    "            if y_pred[k] == 1 and y_pred[h] == 1:\n",
    "                sum = 0\n",
    "                for f in range(n_features):\n",
    "                    sum = sum +(X[h,f]-X[k,f])**2\n",
    "                \n",
    "                dist2 = np.sqrt(sum)    \n",
    "            \n",
    "                att2 = att2 + dist2\n",
    "    \n",
    "    return att1 + att2\n",
    "              \n",
    "att=Calcolo_fobj(n_samples,n_features,X,y_pred)\n",
    "\n",
    "print(att)\n"
   ]
  },
  {
   "cell_type": "raw",
   "id": "efc387f2-8282-48ce-b83b-e26e3c6564db",
   "metadata": {},
   "source": [
    "\n",
    "def Calcolo_fobj(n_samples,n_features,X,y_pred):\n",
    "    att1 = 0\n",
    "    att2 = 0\n",
    "    for k in range(n_samples):\n",
    "        for h in range(k,n_samples):\n",
    "            if y_pred[k] == 0 and y_pred[h] == 0:\n",
    "                #prift(\"ok\")\n",
    "                sum = 0\n",
    "                for f in range(n_features):\n",
    "                    sum = sum +(X[h,f]-X[k,f])**2\n",
    "                \n",
    "                dist1 = np.sqrt(sum)    \n",
    "            \n",
    "                att1 = att1 + dist1 \n",
    "\n",
    "    return att1\n",
    "          #  if y_pred[k] == 1 and y_pred[h] == 1:\n",
    "           #     sum = 0\n",
    "            #    for f in range(n_features):\n",
    "             #       sum = sum +(X[h,f]-X[k,f])**2\n",
    "                \n",
    "              #  dist2 = np.sqrt(sum)    \n",
    "            \n",
    "               # att2 = att2 + dist2\n",
    "        \n",
    "\n",
    "print(att1)\n",
    "print(att2)\n",
    "print( att1 + att2)\n",
    "\n",
    "#675504201.5811747 att1 \n",
    "#474780836.33401984 att 2\n",
    "#1150285037.9151945 att1+att2\n",
    "\n"
   ]
  },
  {
   "cell_type": "markdown",
   "id": "e3f22506-b3b4-432a-9587-5f8e450658a6",
   "metadata": {},
   "source": [
    "### scambio i primi n sample piu distanti dal centro dei due cluster approvando solo quelli che mi migliorano la funzione obbiettivo  "
   ]
  },
  {
   "cell_type": "code",
   "execution_count": 24,
   "id": "e185d5d5-e991-4e43-b116-48b26e119e2d",
   "metadata": {},
   "outputs": [
    {
     "name": "stdout",
     "output_type": "stream",
     "text": [
      "{751: array([713296., 915171.]), 752: array([717657., 944689.]), 753: array([717850., 941860.]), 754: array([719009., 946771.]), 755: array([719296., 931689.]), 756: array([719664., 946958.]), 757: array([719722., 933623.]), 758: array([720238., 941641.]), 759: array([720383., 937134.]), 760: array([720507., 924126.]), 761: array([721365., 935990.]), 762: array([721798., 938522.]), 763: array([722624., 937197.]), 764: array([722859., 942467.]), 765: array([723036., 940038.]), 766: array([723441., 937970.]), 767: array([723468., 926775.]), 768: array([724142., 941963.]), 769: array([724167., 936261.]), 770: array([724199., 929074.]), 771: array([724448., 943763.]), 772: array([724655., 941549.]), 773: array([724724., 940549.]), 774: array([725033., 934405.]), 775: array([725215., 937801.]), 776: array([726006., 949901.]), 777: array([726250., 938098.]), 778: array([726269., 938359.]), 779: array([726421., 945692.]), 780: array([726735., 940686.]), 781: array([726874., 937985.]), 782: array([727473., 943932.]), 783: array([727503., 939842.]), 784: array([727780., 928719.]), 785: array([727802., 928019.]), 786: array([727922., 943091.]), 787: array([728083., 937720.]), 788: array([728112., 948707.]), 789: array([728252., 943056.]), 790: array([728479., 937696.]), 791: array([728527., 949196.]), 792: array([728773., 952068.]), 793: array([728989., 934013.]), 794: array([729059., 941721.]), 795: array([729090., 940917.]), 796: array([729259., 931681.]), 797: array([729539., 937533.]), 798: array([729611., 937820.]), 799: array([729645., 943462.]), 800: array([729713., 946188.]), 801: array([729726., 950535.]), 802: array([729761., 935861.]), 803: array([729812., 933002.]), 804: array([729940., 944652.]), 805: array([729958., 942667.]), 806: array([730600., 948068.]), 807: array([730700., 941982.]), 808: array([730841., 950604.]), 809: array([730897., 937445.]), 810: array([730949., 928488.]), 811: array([731148., 948789.]), 812: array([731642., 953000.]), 813: array([731645., 936804.]), 814: array([731754., 943272.]), 815: array([731778., 934251.]), 816: array([731795., 937651.]), 817: array([731828., 943941.]), 818: array([731909., 950473.]), 819: array([731937., 917148.]), 820: array([732187., 944541.]), 821: array([732201., 938123.]), 822: array([732591., 941270.]), 823: array([732613., 942949.]), 824: array([732698., 940059.]), 825: array([732763., 944812.]), 826: array([732934., 941410.]), 827: array([732957., 927378.]), 828: array([732983., 944924.]), 829: array([733068., 952552.]), 830: array([733132., 942403.]), 831: array([733188., 935017.]), 832: array([733414., 932232.]), 833: array([733441., 934253.]), 834: array([733455., 936107.]), 835: array([733512., 950650.]), 836: array([733817., 946348.]), 837: array([733946., 937945.]), 838: array([733981., 952687.]), 839: array([734240., 948332.]), 840: array([734410., 938916.]), 841: array([734507., 944956.]), 842: array([734626., 921053.]), 843: array([734703., 943281.]), 844: array([734741., 932215.]), 845: array([734742., 923532.]), 846: array([734931., 944505.]), 847: array([734997., 943883.]), 848: array([735074., 943862.]), 849: array([735418., 938769.]), 850: array([735628., 935142.]), 851: array([735675., 934681.]), 852: array([735797., 940057.]), 853: array([735980., 951568.]), 854: array([736023., 935388.]), 855: array([736033., 937515.]), 856: array([736048., 948377.]), 857: array([736056., 929884.]), 859: array([736626., 942234.]), 860: array([737001., 943709.]), 861: array([737130., 942114.]), 862: array([737174., 934266.]), 864: array([737379., 933280.]), 865: array([737520., 929778.]), 866: array([737881., 948427.]), 867: array([738120., 936506.]), 868: array([738313., 946947.]), 869: array([738483., 930362.]), 870: array([738614., 941018.]), 871: array([738685., 934790.]), 872: array([738718., 932083.]), 873: array([738722., 947141.]), 874: array([738923., 942027.]), 875: array([738985., 945695.]), 876: array([739329., 939554.]), 877: array([739375., 950497.]), 878: array([739414., 941911.]), 879: array([739522., 946177.]), 880: array([739936., 941060.]), 881: array([739992., 952735.]), 882: array([740002., 930873.]), 883: array([740170., 942448.]), 884: array([740547., 935295.]), 885: array([740874., 924477.]), 886: array([741140., 930913.]), 887: array([741230., 931981.]), 888: array([741532., 940254.]), 889: array([741532., 943101.]), 890: array([741657., 948494.]), 891: array([741900., 939055.]), 892: array([742084., 931541.]), 893: array([742281., 947446.]), 894: array([742862., 935987.]), 895: array([743617., 939608.]), 896: array([744038., 939741.]), 897: array([744735., 942132.]), 899: array([745129., 944816.]), 900: array([745769., 941993.]), 904: array([746318., 937178.]), 905: array([746598., 938023.]), 906: array([746670., 930751.])}\n",
      "{1201: array([942630., 858002.]), 1202: array([945065., 860729.]), 1203: array([946845., 871010.]), 1204: array([947020., 847884.]), 1205: array([947397., 878984.]), 1206: array([947453., 857378.]), 1207: array([949280., 851007.]), 1208: array([949649., 851539.]), 1209: array([949779., 860168.]), 1210: array([949926., 869094.]), 1211: array([949955., 860290.]), 1212: array([950108., 858112.]), 1213: array([950175., 856285.]), 1214: array([950350., 867941.]), 1215: array([950638., 862592.]), 1216: array([951160., 865199.]), 1217: array([951385., 852389.]), 1218: array([951392., 856432.]), 1219: array([951754., 850783.]), 1220: array([951771., 866478.]), 1221: array([951927., 862850.]), 1222: array([952141., 856150.]), 1223: array([952370., 866545.]), 1224: array([952438., 860144.]), 1225: array([952794., 876676.]), 1226: array([953043., 870026.]), 1227: array([953347., 869632.]), 1228: array([953550., 856313.]), 1229: array([953626., 852746.]), 1230: array([953853., 860063.]), 1231: array([954303., 864785.]), 1232: array([954422., 856716.]), 1233: array([954434., 863771.]), 1234: array([954797., 858818.]), 1235: array([954966., 861684.]), 1237: array([955242., 863966.]), 1239: array([955668., 861464.]), 1240: array([955712., 868266.]), 1241: array([955862., 864795.]), 1242: array([956122., 862565.]), 1243: array([956161., 863819.]), 1244: array([956192., 861886.]), 1245: array([956254., 862951.]), 1246: array([956267., 865682.]), 1247: array([956284., 861084.]), 1248: array([956292., 853966.]), 1249: array([956497., 873940.]), 1250: array([956833., 867998.]), 1251: array([956924., 866154.]), 1252: array([957000., 858465.]), 1253: array([957112., 859828.]), 1254: array([957669., 857897.]), 1255: array([957794., 860312.]), 1256: array([957796., 865650.]), 1257: array([958037., 861464.]), 1258: array([958205., 869294.]), 1259: array([958206., 871180.]), 1260: array([958359., 863818.]), 1261: array([958381., 868474.]), 1262: array([958630., 859547.]), 1264: array([959084., 864890.]), 1267: array([959338., 867904.]), 1268: array([959432., 869398.]), 1270: array([959639., 863447.]), 1275: array([960328., 871291.]), 1278: array([960610., 866805.]), 1285: array([961342., 868049.]), 1287: array([961531., 874723.]), 1289: array([961861., 871067.]), 1290: array([961923., 872339.]), 1295: array([962779., 871005.])}\n"
     ]
    }
   ],
   "source": [
    "\n",
    "\n",
    "cluster_i = {}\n",
    "cluster_j = {}\n",
    "\n",
    "for i in range(n_samples):\n",
    "    if y_pred[i]==0:\n",
    "        cluster_i[i]= X[i]\n",
    "    if y_pred[i]==2:\n",
    "        cluster_j[i]= X[i]\n",
    "\n",
    " \n",
    "print(cluster_i)\n",
    "print(cluster_j)\n",
    "\n",
    "\n",
    "    "
   ]
  },
  {
   "cell_type": "raw",
   "id": "211bea8a-591f-4c6b-9f9c-ceb961fe673f",
   "metadata": {},
   "source": [
    "def opt_clust(cluster_i):\n",
    "    index_i= cluster_i.keys()\n",
    "\n",
    "    att1=0\n",
    "    for k in index_i:\n",
    "        for h in index_i:\n",
    "        \n",
    "            sum1 = 0\n",
    "            for f in range(n_features):\n",
    "                sum1 = sum1 +(cluster_i[k][f]-cluster_i[h][f])**2\n",
    "                \n",
    "            dist1 = np.sqrt(sum1)    \n",
    "          \n",
    "            att1 = att1 + dist1  \n",
    "    \n",
    "\n",
    "    att1 = att1/2\n",
    "    return att1\n",
    "    \n",
    "\n",
    "\n",
    "\n",
    "att2=0\n",
    "for k in index_j:\n",
    "    for h in index_j:\n",
    "        \n",
    "        sum2 = 0\n",
    "        for f in range(n_features):\n",
    "            sum2 = sum2 +(cluster_j[k][f]-cluster_j[h][f])**2\n",
    "                \n",
    "        dist2 = np.sqrt(sum2)    \n",
    "          \n",
    "        att2 = att2 + dist2  \n",
    "    \n",
    "\n",
    "att2 = att2/2\n",
    "print(att2)\n",
    "\n"
   ]
  },
  {
   "cell_type": "code",
   "execution_count": 25,
   "id": "98fb4ffc-8712-4697-be35-ad0828c9365e",
   "metadata": {},
   "outputs": [
    {
     "name": "stdout",
     "output_type": "stream",
     "text": [
      "139278469.04270765\n",
      "23885327.793469533\n"
     ]
    }
   ],
   "source": [
    "\n",
    "\n",
    "\n",
    "def opt_clust(cluster_i,n_features):\n",
    "    index_i= cluster_i.keys()\n",
    "\n",
    "    att1=0\n",
    "    for k in index_i:\n",
    "        for h in index_i:\n",
    "        \n",
    "            sum1 = 0\n",
    "            for f in range(n_features):\n",
    "                sum1 = sum1 +(cluster_i[k][f]-cluster_i[h][f])**2\n",
    "                \n",
    "            dist1 = np.sqrt(sum1)    \n",
    "          \n",
    "            att1 = att1 + dist1  \n",
    "    \n",
    "\n",
    "    att1 = att1/2\n",
    "    return att1\n",
    "\n",
    "att_obj1 = opt_clust(cluster_i,n_features)\n",
    "att_obj2 = opt_clust(cluster_j,n_features)\n",
    "\n",
    "print(att_obj1)\n",
    "print(att_obj2)\n"
   ]
  },
  {
   "cell_type": "code",
   "execution_count": 26,
   "id": "e9b49287-0b48-4488-ad2a-cd26210932c0",
   "metadata": {},
   "outputs": [
    {
     "name": "stdout",
     "output_type": "stream",
     "text": [
      "{31102.75797287667: 751, 15708.13426644623: 752, 14844.396553560775: 753, 15291.2598312251: 754, 15422.514772868939: 755, 14807.328924985277: 756, 14136.324529359192: 757, 12451.547409031893: 758, 12392.647398600198: 759, 19606.542166651656: 760, 11734.104890135375: 761, 10781.986295639957: 762, 10191.870938450615: 763, 10076.254497217953: 764, 9497.413524360374: 765, 9231.436705773493: 766, 15714.918002098955: 767, 8703.94183494117: 768, 9006.202669977036: 769, 13434.4995748271: 770, 9077.665886451245: 771, 8102.563131876183: 772, 7855.479032244851: 773, 9126.521262016224: 774, 7531.612379787624: 775, 12174.728237324776: 776, 6455.646322357762: 777, 6380.59107183952: 778, 8610.482931832401: 779, 5886.7986183244775: 780, 5881.40688605811: 781, 6642.56078728001: 782, 5026.11621559898: 783, 11886.84645477368: 784, 12523.481986493684: 785, 5765.466526313644: 786, 4829.740125449048: 787, 10103.215573900921: 788, 5483.632251167412: 789, 4478.562063807189: 790, 10378.49651921614: 791, 13002.728993537621: 792, 6626.784028423636: 793, 4053.306209262146: 794, 3671.561952726545: 795, 8582.45935378485: 796, 3641.2392431753715: 797, 3423.371231117161: 798, 4802.59696130245: 799, 7146.049198406553: 800, 11269.792298561535: 801, 4663.761291708582: 802, 7150.413293372433: 803, 5658.432630983542: 804, 3985.0718035410437: 805, 8666.202942430002: 806, 2985.8769743652624: 807, 11114.086295600335: 808, 2714.7568582425156: 809, 11241.003070279574: 810, 9273.571664289697: 811, 13410.943108747188: 812, 2948.2236187307094: 813, 3734.1773247548354: 814, 5418.714553536334: 815, 2097.8818141264196: 816, 4378.590726026706: 817, 10872.31506285814: 818, 22477.76927839357: 819, 4934.42993661691: 820, 1529.6191855196255: 821, 1653.2530516265194: 822, 3332.0854249824292: 823, 473.94593156279: 824, 5199.390125714924: 825, 1838.1789247457555: 826, 12247.751929750306: 827, 5325.705544437168: 828, 12945.329946074036: 829, 2850.4697857336378: 830, 4648.747036859314: 831, 7439.512602272614: 832, 5442.881104651705: 833, 3632.402562039247: 834, 11076.042223317865: 835, 6852.961072853876: 836, 2195.674699504553: 837, 13149.852741357552: 838, 8881.23158723228: 839, 2012.327667001291: 840, 5694.292147936398: 841, 18683.704384285407: 842, 4261.962624509475: 843, 7727.898613856215: 844, 16238.275010994888: 845, 5447.4609546757465: 846, 4929.956848971033: 847, 4951.014161366314: 848, 3015.870302148222: 849, 5446.971716410604: 850, 5856.872815138649: 851, 3302.1709625710714: 852, 12439.58080105822: 853, 5489.613885576192: 854, 4090.8705283080267: 855, 9441.187027031468: 856, 10355.038969154431: 857, 4865.007466871612: 859, 6064.475051702165: 860, 5238.66261298787: 861, 7089.8728074659: 862, 7983.8152967557135: 864, 11035.683865203282: 865, 10309.840499221553: 866, 6403.043399252699: 867, 9339.369875927827: 868, 11008.34041137488: 869, 6248.702043308727: 870, 7827.318176705188: 871, 9754.065761485177: 872, 9747.187197651192: 873, 6837.278635981693: 874, 8869.701113306344: 875, 6805.175228656265: 876, 12856.318704800053: 877, 7261.387261356149: 878, 9591.110488331818: 879, 7550.823923214284: 880, 15093.780100847078: 881, 11506.318420736392: 882, 8152.77333423335: 883, 9113.489459735756: 884, 17290.84422151524: 885, 12247.940206665173: 886, 11580.912179359886: 887, 9030.290737256797: 888, 9657.76239091582: 889, 12735.42210265233: 890, 9392.767556621353: 891, 12515.219636881324: 892, 12508.900657241036: 893, 10957.030266730604: 894, 11092.877931329958: 895, 11514.529236840484: 896, 12466.961168333019: 897, 13634.551556959706: 899, 13456.107149768743: 900, 14008.034464051492: 904, 14163.97735852193: 905, 16695.24467543727: 906}\n",
      "{225401.12197673912: 1201, 226709.31373921578: 1202, 225034.45987664387: 1203, 233288.7155004277: 1204, 223264.07184617245: 1205, 230125.7365883837: 1206, 234168.81873491645: 1207, 234309.91971494968: 1208, 231326.60542422015: 1209, 228554.63944022846: 1210, 231450.0640054052: 1211, 232348.8460740577: 1212, 233058.59395948658: 1213, 229315.75994213636: 1214, 231315.11369056607: 1215, 230954.21094459287: 1216, 235603.47570237477: 1217, 234143.27496357047: 1218, 236544.73647443415: 1219, 231124.78381699536: 1220, 232445.61085237304: 1221, 234943.59912608707: 1222, 231671.93607622435: 1223, 233833.7962213322: 1224, 229086.2829824013: 1225, 231239.34327577747: 1226, 231647.99930152541: 1227, 236203.67560385854: 1228, 237555.88847662671: 1229, 235192.4405822025: 1230, 234063.79795391863: 1231, 236878.50129183562: 1232, 234513.91101857086: 1233, 236503.45955158072: 1234, 235699.19591473544: 1235, 235215.83989292226: 1237, 236434.4550885358: 1239, 234315.91703822894: 1240, 235538.32375786788: 1241, 236501.98557052223: 1242, 236133.34087993487: 1243, 236790.19602142775: 1244, 236501.37514221668: 1245, 235642.56884244448: 1246, 237141.48894058904: 1247, 239600.38265940401: 1248, 233404.07196276487: 1249, 235465.30398357954: 1250, 236119.2011269439: 1251, 238694.8749939404: 1252, 238340.45587436372: 1253, 239517.33167663013: 1254, 238822.0536902448: 1255, 237104.82224686936: 1256, 238671.57221978946: 1257, 236383.87345440083: 1258, 235830.6203249545: 1259, 238216.38309212244: 1260, 236796.9809704497: 1261, 239865.06000466074: 1262, 238565.85072978528: 1264, 237881.15788199686: 1267, 237524.83117490303: 1268, 239547.9120435538: 1270, 237830.18584712816: 1275, 239426.2164965222: 1278, 239749.35918913217: 1285, 238024.20473119855: 1287, 239363.01882604905: 1289, 239061.33184480685: 1290, 240260.40910928193: 1295}\n"
     ]
    }
   ],
   "source": [
    "vett_dist1 = {}\n",
    "vett_dist2 = {}\n",
    "index_i= cluster_i.keys()\n",
    "index_j= cluster_j.keys()\n",
    "\n",
    "for k in index_i:\n",
    "        sum1 = 0\n",
    "        for f in range(n_features):\n",
    "            sum1 = sum1 +(cluster_i[k][f]-kmeans.cluster_centers_[0][f])**2\n",
    "                \n",
    "        dist1 = np.sqrt(sum1)\n",
    "        vett_dist1[dist1] = k\n",
    "\n",
    "\n",
    "#lista_ord = sorted(vett_dist1.items(),key = lambda x: x[1], reverse = True)\n",
    "\n",
    "print(vett_dist1)\n",
    "\n",
    "\n",
    "for k in index_j:\n",
    "        sum2 = 0\n",
    "        for f in range(n_features):\n",
    "            sum2 = sum2 +(cluster_j[k][f]-kmeans.cluster_centers_[0][f])**2\n",
    "                \n",
    "        dist2 = np.sqrt(sum2)\n",
    "        vett_dist2[dist2] = k\n",
    "\n",
    "\n",
    "#lista_ord = sorted(vett_dist1.items(),key = lambda x: x[1], reverse = True)\n",
    "\n",
    "print(vett_dist2)"
   ]
  },
  {
   "cell_type": "code",
   "execution_count": 27,
   "id": "15241ab6-22bd-4e28-8a4d-1dd51c3e2345",
   "metadata": {},
   "outputs": [
    {
     "name": "stdout",
     "output_type": "stream",
     "text": [
      "[(31102.75797287667, 751), (22477.76927839357, 819), (19606.542166651656, 760), (18683.704384285407, 842), (17290.84422151524, 885), (16695.24467543727, 906), (16238.275010994888, 845), (15714.918002098955, 767), (15708.13426644623, 752), (15422.514772868939, 755), (15291.2598312251, 754), (15093.780100847078, 881), (14844.396553560775, 753), (14807.328924985277, 756), (14163.97735852193, 905), (14136.324529359192, 757), (14008.034464051492, 904), (13634.551556959706, 899), (13456.107149768743, 900), (13434.4995748271, 770), (13410.943108747188, 812), (13149.852741357552, 838), (13002.728993537621, 792), (12945.329946074036, 829), (12856.318704800053, 877), (12735.42210265233, 890), (12523.481986493684, 785), (12515.219636881324, 892), (12508.900657241036, 893), (12466.961168333019, 897), (12451.547409031893, 758), (12439.58080105822, 853), (12392.647398600198, 759), (12247.940206665173, 886), (12247.751929750306, 827), (12174.728237324776, 776), (11886.84645477368, 784), (11734.104890135375, 761), (11580.912179359886, 887), (11514.529236840484, 896), (11506.318420736392, 882), (11269.792298561535, 801), (11241.003070279574, 810), (11114.086295600335, 808), (11092.877931329958, 895), (11076.042223317865, 835), (11035.683865203282, 865), (11008.34041137488, 869), (10957.030266730604, 894), (10872.31506285814, 818), (10781.986295639957, 762), (10378.49651921614, 791), (10355.038969154431, 857), (10309.840499221553, 866), (10191.870938450615, 763), (10103.215573900921, 788), (10076.254497217953, 764), (9754.065761485177, 872), (9747.187197651192, 873), (9657.76239091582, 889), (9591.110488331818, 879), (9497.413524360374, 765), (9441.187027031468, 856), (9392.767556621353, 891), (9339.369875927827, 868), (9273.571664289697, 811), (9231.436705773493, 766), (9126.521262016224, 774), (9113.489459735756, 884), (9077.665886451245, 771), (9030.290737256797, 888), (9006.202669977036, 769), (8881.23158723228, 839), (8869.701113306344, 875), (8703.94183494117, 768), (8666.202942430002, 806), (8610.482931832401, 779), (8582.45935378485, 796), (8152.77333423335, 883), (8102.563131876183, 772), (7983.8152967557135, 864), (7855.479032244851, 773), (7827.318176705188, 871), (7727.898613856215, 844), (7550.823923214284, 880), (7531.612379787624, 775), (7439.512602272614, 832), (7261.387261356149, 878), (7150.413293372433, 803), (7146.049198406553, 800), (7089.8728074659, 862), (6852.961072853876, 836), (6837.278635981693, 874), (6805.175228656265, 876), (6642.56078728001, 782), (6626.784028423636, 793), (6455.646322357762, 777), (6403.043399252699, 867), (6380.59107183952, 778), (6248.702043308727, 870), (6064.475051702165, 860), (5886.7986183244775, 780), (5881.40688605811, 781), (5856.872815138649, 851), (5765.466526313644, 786), (5694.292147936398, 841), (5658.432630983542, 804), (5489.613885576192, 854), (5483.632251167412, 789), (5447.4609546757465, 846), (5446.971716410604, 850), (5442.881104651705, 833), (5418.714553536334, 815), (5325.705544437168, 828), (5238.66261298787, 861), (5199.390125714924, 825), (5026.11621559898, 783), (4951.014161366314, 848), (4934.42993661691, 820), (4929.956848971033, 847), (4865.007466871612, 859), (4829.740125449048, 787), (4802.59696130245, 799), (4663.761291708582, 802), (4648.747036859314, 831), (4478.562063807189, 790), (4378.590726026706, 817), (4261.962624509475, 843), (4090.8705283080267, 855), (4053.306209262146, 794), (3985.0718035410437, 805), (3734.1773247548354, 814), (3671.561952726545, 795), (3641.2392431753715, 797), (3632.402562039247, 834), (3423.371231117161, 798), (3332.0854249824292, 823), (3302.1709625710714, 852), (3015.870302148222, 849), (2985.8769743652624, 807), (2948.2236187307094, 813), (2850.4697857336378, 830), (2714.7568582425156, 809), (2195.674699504553, 837), (2097.8818141264196, 816), (2012.327667001291, 840), (1838.1789247457555, 826), (1653.2530516265194, 822), (1529.6191855196255, 821), (473.94593156279, 824)]\n",
      "[(240260.40910928193, 1295), (239865.06000466074, 1262), (239749.35918913217, 1285), (239600.38265940401, 1248), (239547.9120435538, 1270), (239517.33167663013, 1254), (239426.2164965222, 1278), (239363.01882604905, 1289), (239061.33184480685, 1290), (238822.0536902448, 1255), (238694.8749939404, 1252), (238671.57221978946, 1257), (238565.85072978528, 1264), (238340.45587436372, 1253), (238216.38309212244, 1260), (238024.20473119855, 1287), (237881.15788199686, 1267), (237830.18584712816, 1275), (237555.88847662671, 1229), (237524.83117490303, 1268), (237141.48894058904, 1247), (237104.82224686936, 1256), (236878.50129183562, 1232), (236796.9809704497, 1261), (236790.19602142775, 1244), (236544.73647443415, 1219), (236503.45955158072, 1234), (236501.98557052223, 1242), (236501.37514221668, 1245), (236434.4550885358, 1239), (236383.87345440083, 1258), (236203.67560385854, 1228), (236133.34087993487, 1243), (236119.2011269439, 1251), (235830.6203249545, 1259), (235699.19591473544, 1235), (235642.56884244448, 1246), (235603.47570237477, 1217), (235538.32375786788, 1241), (235465.30398357954, 1250), (235215.83989292226, 1237), (235192.4405822025, 1230), (234943.59912608707, 1222), (234513.91101857086, 1233), (234315.91703822894, 1240), (234309.91971494968, 1208), (234168.81873491645, 1207), (234143.27496357047, 1218), (234063.79795391863, 1231), (233833.7962213322, 1224), (233404.07196276487, 1249), (233288.7155004277, 1204), (233058.59395948658, 1213), (232445.61085237304, 1221), (232348.8460740577, 1212), (231671.93607622435, 1223), (231647.99930152541, 1227), (231450.0640054052, 1211), (231326.60542422015, 1209), (231315.11369056607, 1215), (231239.34327577747, 1226), (231124.78381699536, 1220), (230954.21094459287, 1216), (230125.7365883837, 1206), (229315.75994213636, 1214), (229086.2829824013, 1225), (228554.63944022846, 1210), (226709.31373921578, 1202), (225401.12197673912, 1201), (225034.45987664387, 1203), (223264.07184617245, 1205)]\n"
     ]
    }
   ],
   "source": [
    "sorted_vet1 = sorted(vett_dist1.items(), reverse =True)\n",
    "sorted_vet2 = sorted(vett_dist2.items(), reverse =True)\n",
    "\n",
    "print(sorted_vet1)\n",
    "print(sorted_vet2)\n",
    "   "
   ]
  },
  {
   "cell_type": "markdown",
   "id": "3c51ad38-7849-496e-bf05-17f250c032d1",
   "metadata": {},
   "source": [
    "## Cambio euristica migliorativa\n"
   ]
  },
  {
   "cell_type": "code",
   "execution_count": 28,
   "id": "4376d810-e6f8-4436-b441-1bd88d20d25c",
   "metadata": {},
   "outputs": [],
   "source": [
    "def swap(clust_i,clust_j,key1,key2):\n",
    "    value1 = clust_i.pop(key1)\n",
    "    value2 = clust_j.pop(key2)\n",
    "    clust_i[key2] = value2\n",
    "    clust_j[key1] = value1\n",
    "\n",
    "\n",
    "\n",
    "\n",
    "\n",
    "\n"
   ]
  },
  {
   "cell_type": "code",
   "execution_count": 29,
   "id": "db9d4be3-72b7-4c5e-82c9-efa1ac7f565f",
   "metadata": {},
   "outputs": [
    {
     "name": "stdout",
     "output_type": "stream",
     "text": [
      "210597157.84351432   163163796.83617717\n",
      "210816695.6494552   163163796.83617717\n",
      "211971422.7421266   163163796.83617717\n",
      "211001461.01758203   163163796.83617717\n",
      "211040938.52224267   163163796.83617717\n",
      "210818633.6451215   163163796.83617717\n",
      "211477493.54037315   163163796.83617717\n",
      "212158280.75389507   163163796.83617717\n",
      "212833571.9118511   163163796.83617717\n",
      "212770130.78550318   163163796.83617717\n",
      "213092187.06544742   163163796.83617717\n",
      "212000381.98716232   163163796.83617717\n",
      "213124227.88516304   163163796.83617717\n",
      "213107041.42464513   163163796.83617717\n",
      "211240008.41389784   163163796.83617717\n",
      "212382995.90734196   163163796.83617717\n",
      "211113787.05128384   163163796.83617717\n",
      "211271903.1002506   163163796.83617717\n",
      "211079981.37250125   163163796.83617717\n",
      "212322333.08390653   163163796.83617717\n",
      "212567066.90323275   163163796.83617717\n",
      "212415912.30562153   163163796.83617717\n",
      "212596825.18799353   163163796.83617717\n",
      "212367431.474945   163163796.83617717\n",
      "212038077.94109946   163163796.83617717\n",
      "211333636.21385375   163163796.83617717\n",
      "212138835.8053177   163163796.83617717\n",
      "211372747.39224666   163163796.83617717\n",
      "211772615.13255113   163163796.83617717\n",
      "211456176.02383992   163163796.83617717\n",
      "212863023.87116578   163163796.83617717\n",
      "212084893.13041142   163163796.83617717\n",
      "212875595.14371005   163163796.83617717\n",
      "211356796.49808803   163163796.83617717\n",
      "211551895.2914855   163163796.83617717\n",
      "212780391.9000524   163163796.83617717\n",
      "212151496.26708758   163163796.83617717\n",
      "212386041.46124303   163163796.83617717\n",
      "211401026.5331727   163163796.83617717\n",
      "211328959.11816657   163163796.83617717\n",
      "211425342.62205905   163163796.83617717\n",
      "212572792.02146778   163163796.83617717\n",
      "211734813.4524244   163163796.83617717\n",
      "212468622.80934003   163163796.83617717\n",
      "211228212.03047615   163163796.83617717\n",
      "211794085.11047646   163163796.83617717\n",
      "210931010.03297377   163163796.83617717\n",
      "211205861.7827453   163163796.83617717\n",
      "211237282.78216442   163163796.83617717\n",
      "212263508.99531138   163163796.83617717\n",
      "212227665.77039045   163163796.83617717\n",
      "211697059.42468163   163163796.83617717\n",
      "211218382.11217645   163163796.83617717\n",
      "211700737.17652443   163163796.83617717\n",
      "212247337.45153424   163163796.83617717\n",
      "212196299.60608038   163163796.83617717\n",
      "212280353.6176317   163163796.83617717\n",
      "211035099.93258664   163163796.83617717\n",
      "211412883.1470087   163163796.83617717\n",
      "211176261.32295436   163163796.83617717\n",
      "211292186.72102672   163163796.83617717\n",
      "212268040.43629077   163163796.83617717\n",
      "211649843.48510668   163163796.83617717\n",
      "210673510.23321587   163163796.83617717\n",
      "211143183.4649581   163163796.83617717\n",
      "211245914.58268133   163163796.83617717\n",
      "211697619.0214476   163163796.83617717\n",
      "211099671.48201895   163163796.83617717\n",
      "209748380.58188972   163163796.83617717\n",
      "211067546.21854547   163163796.83617717\n",
      "209246993.48127052   163163796.83617717\n"
     ]
    },
    {
     "ename": "IndexError",
     "evalue": "list index out of range",
     "output_type": "error",
     "traceback": [
      "\u001b[1;31m---------------------------------------------------------------------------\u001b[0m",
      "\u001b[1;31mIndexError\u001b[0m                                Traceback (most recent call last)",
      "Cell \u001b[1;32mIn[29], line 11\u001b[0m\n\u001b[0;32m      9\u001b[0m temp_clust_j \u001b[38;5;241m=\u001b[39m new_clust_j\u001b[38;5;241m.\u001b[39mcopy()\n\u001b[0;32m     10\u001b[0m key1 \u001b[38;5;241m=\u001b[39m sorted_vet1[k][\u001b[38;5;241m1\u001b[39m]\n\u001b[1;32m---> 11\u001b[0m key2 \u001b[38;5;241m=\u001b[39m sorted_vet2[k][\u001b[38;5;241m1\u001b[39m]\n\u001b[0;32m     12\u001b[0m swap(temp_clust_i,temp_clust_j,key1,key2)\n\u001b[0;32m     13\u001b[0m temp_tot1 \u001b[38;5;241m=\u001b[39m opt_clust(temp_clust_i,n_features)\n",
      "\u001b[1;31mIndexError\u001b[0m: list index out of range"
     ]
    }
   ],
   "source": [
    "new_att = 0\n",
    "new_clust_i = cluster_i.copy()\n",
    "new_clust_j = cluster_j.copy()\n",
    "\n",
    "\n",
    "\n",
    "for k in range(100):\n",
    "    temp_clust_i = new_clust_i.copy()\n",
    "    temp_clust_j = new_clust_j.copy()\n",
    "    key1 = sorted_vet1[k][1]\n",
    "    key2 = sorted_vet2[k][1]\n",
    "    swap(temp_clust_i,temp_clust_j,key1,key2)\n",
    "    temp_tot1 = opt_clust(temp_clust_i,n_features)\n",
    "    temp_tot2 = opt_clust(temp_clust_j,n_features)\n",
    "    sum_temp_tot = temp_tot1+temp_tot2\n",
    "    new_tot1 = opt_clust(new_clust_i,n_features)\n",
    "    new_tot2 = opt_clust(new_clust_j,n_features)\n",
    "    sum_new_tot = new_tot1+new_tot2\n",
    "    print(sum_temp_tot, \" \", sum_new_tot)\n",
    "    if sum_temp_tot < sum_new_tot :\n",
    "        print(\" scambio \" , key1 ,\" e \", key2) \n",
    "        swap(new_clust_i,new_clust_j,key1,key2)\n",
    "\n",
    "\n",
    "\n",
    "\n",
    "        \n",
    "\n",
    "    "
   ]
  },
  {
   "cell_type": "code",
   "execution_count": null,
   "id": "220eb14b-f32e-46d0-ad37-b502e54cf094",
   "metadata": {},
   "outputs": [],
   "source": [
    "tot1 = opt_clust(new_clust_i)\n",
    "tot2 = opt_clust(new_clust_j)\n",
    "\n",
    "print(tot1+tot2)"
   ]
  },
  {
   "cell_type": "code",
   "execution_count": null,
   "id": "5d5609d0-b789-4cd4-af5b-b6594fab8f46",
   "metadata": {},
   "outputs": [],
   "source": []
  }
 ],
 "metadata": {
  "kernelspec": {
   "display_name": "Python 3 (ipykernel)",
   "language": "python",
   "name": "python3"
  },
  "language_info": {
   "codemirror_mode": {
    "name": "ipython",
    "version": 3
   },
   "file_extension": ".py",
   "mimetype": "text/x-python",
   "name": "python",
   "nbconvert_exporter": "python",
   "pygments_lexer": "ipython3",
   "version": "3.11.7"
  }
 },
 "nbformat": 4,
 "nbformat_minor": 5
}
